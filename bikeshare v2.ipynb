{
 "cells": [
  {
   "cell_type": "code",
   "execution_count": 64,
   "metadata": {},
   "outputs": [],
   "source": [
    "import pandas as pd\n",
    "# import os\n",
    "# dc='C:\\\\Users\\\\shado\\\\OneDrive\\\\Desktop\\\\carrer\\\\data\\\\Bike share'\n",
    "# os.chdir(dc) \n",
    "\n",
    "data={'washington':'washington.csv'\n",
    "     ,'new_york':'new_york_city.csv'\n",
    "     ,'chicago':'chicago.csv'}\n",
    "\n",
    "cities=['new_york','chicago','washington']\n",
    "months=['january','february','march','april','may','june','july','august','september','october','november','december']\n",
    "days=['saturday','sunday','monday','tuesday','wednesday','thursday','friday']\n",
    "\n",
    "def filters():\n",
    "    print('welcome to the bike share analysis for the first half of the years of 2017:')\n",
    "    cici=input('which country to choose from ? new_york -washingon -chicago : ').lower()\n",
    "    if cici in data:\n",
    "        df=pd.read_csv(data[cici])\n",
    "        df['Start Time']=pd.to_datetime(df['Start Time'])\n",
    "        df['End Time']=pd.to_datetime(df['End Time'])\n",
    "    else:\n",
    "        print('sorry wrong country name chck the spelling')    \n",
    "    print('how do you want filters : month  -day -all -none :')\n",
    "    ffilter=input(' ').lower()\n",
    "    if ffilter=='month':\n",
    "        mon=input('which month : ').lower()\n",
    "        df=df[df['Start Time'].dt.month_name().str.lower()==  mon] .copy()\n",
    "\n",
    "    elif ffilter=='day':\n",
    "        dy=input('which day : ').lower()\n",
    "        df=df[df['Start Time'].dt.day_name().str.lower()==  dy] .copy()\n",
    "    elif ffilter=='all':\n",
    "        dy=input('which day : ').lower()\n",
    "        mon=input('which month : ').lower()     \n",
    "      \n",
    "        df=df[(df['Start Time'].dt.day_name().str.lower()==  dy) & (df['Start Time'].dt.month_name().str.lower()==  mon) ] .copy()\n",
    "    else:\n",
    "        print('wrong filter name getting file without filters')    \n",
    "        df         \n",
    "    return df         \n"
   ]
  },
  {
   "cell_type": "code",
   "execution_count": 65,
   "metadata": {},
   "outputs": [
    {
     "name": "stdout",
     "output_type": "stream",
     "text": [
      "welcome to the bike share analysis for the first half of the years of 2017:\n",
      "how do you want filters : month  -day -all -none :\n",
      "wrong filter name getting file without filters\n"
     ]
    }
   ],
   "source": [
    "df=filters()\n"
   ]
  },
  {
   "cell_type": "code",
   "execution_count": 63,
   "metadata": {},
   "outputs": [
    {
     "name": "stdout",
     "output_type": "stream",
     "text": [
      "most common month : February\n",
      "--------------------\n",
      "most common day : Monday\n",
      "--------------------\n",
      "most common hour : 17\n",
      "--------------------\n",
      "most common start station :  Clinton St & Washington Blvd\n",
      "--------------------\n",
      "most common end station :  Clinton St & Washington Blvd\n",
      "--------------------\n",
      "most common trip :  Lake Shore Dr & Monroe St /  to  /  Lake Shore Dr & Monroe St\n",
      "--------------------\n",
      "total traveled : 4488756\n",
      "--------------------\n",
      "average travel time: 801.8499464094319\n",
      "--------------------\n",
      "user types are:\n",
      " Subscriber    4974\n",
      "Customer       624\n",
      "Name: User Type, dtype: int64\n",
      "--------------------\n",
      "genders are : \n",
      " Male      3863\n",
      "Female    1111\n",
      "Name: Gender, dtype: int64\n",
      "--------------------\n",
      "most commom year for birth :  1989.0\n",
      "first birth: 1899.0\n",
      "late birth : 2001.0\n"
     ]
    }
   ],
   "source": [
    "\n",
    "#most common month\n",
    "mostcommonmonth=df['Start Time'].dt.month_name().mode()[0]\n",
    "print('most common month :' ,mostcommonmonth)\n",
    "print('-'*20)\n",
    "\n",
    "#most common day\n",
    "mostcomonday=df['Start Time'].dt.day_name().mode()[0]\n",
    "print('most common day :' ,mostcomonday)\n",
    "print('-'*20)\n",
    "\n",
    "#most common hour\n",
    "mostcomonhour=df['Start Time'].dt.hour.mode()[0]\n",
    "print('most common hour :' ,mostcomonhour)\n",
    "print('-'*20)\n",
    "#most commom start station\n",
    "mostcommonstartstation=df['Start Station'].mode()[0]\n",
    "print('most common start station : ',mostcommonstartstation)\n",
    "print('-'*20)\n",
    "\n",
    "#most common end station\n",
    "mostcommonendstation=df['End Station'].mode()[0]\n",
    "print('most common end station : ',mostcommonendstation)\n",
    "print('-'*20)\n",
    "\n",
    "#most common trip\n",
    "df['full trip']=df['Start Station']+' /  to  /  '+df['End Station']\n",
    "mosrcommontrip=df['full trip'].mode()[0]\n",
    "print('most common trip : ',mosrcommontrip)\n",
    "print('-'*20)\n",
    "\n",
    "#total travel time\n",
    "totaltraveltime=df['Trip Duration'].sum()\n",
    "print('total traveled :',totaltraveltime)\n",
    "print('-'*20)\n",
    "\n",
    "#mean of total time traveled\n",
    "averagetraveltime=df['Trip Duration'].mean()\n",
    "print('average travel time:',averagetraveltime)\n",
    "print('-'*20)\n",
    "\n",
    "#number of users\n",
    "usertypes=df['User Type'].value_counts()\n",
    "print('user types are:\\n',usertypes)\n",
    "print('-'*20)\n",
    "\n",
    "#number of genders\n",
    "if 'Gender' in df.columns:\n",
    "    gender=df['Gender'].value_counts()\n",
    "    print('genders are : \\n' , gender)\n",
    "else:\n",
    "    print('gender doesnt exist')    \n",
    "print('-'*20)\n",
    "\n",
    "# birth year info   \n",
    "if 'Birth Year'    in df.columns:\n",
    "    mostcommonbirth=df['Birth Year'].mode()[0]\n",
    "    earlybirth=df['Birth Year'].min()\n",
    "    latebirth=df['Birth Year'].max()\n",
    "    print('most commom year for birth : ',mostcommonbirth)\n",
    "    print('first birth:',earlybirth)\n",
    "    print('late birth :',latebirth)\n",
    "else:\n",
    "    print('birth year doesnt exist')    \n"
   ]
  }
 ],
 "metadata": {
  "kernelspec": {
   "display_name": "Python 3.10.5 64-bit",
   "language": "python",
   "name": "python3"
  },
  "language_info": {
   "codemirror_mode": {
    "name": "ipython",
    "version": 3
   },
   "file_extension": ".py",
   "mimetype": "text/x-python",
   "name": "python",
   "nbconvert_exporter": "python",
   "pygments_lexer": "ipython3",
   "version": "3.10.5"
  },
  "orig_nbformat": 4,
  "vscode": {
   "interpreter": {
    "hash": "4452f4a6430a901d2af39f097136305f5569e3ef8f725fd3a46a22afbc855e50"
   }
  }
 },
 "nbformat": 4,
 "nbformat_minor": 2
}
